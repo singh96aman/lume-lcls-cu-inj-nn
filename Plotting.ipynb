{
 "cells": [
  {
   "cell_type": "code",
   "execution_count": 1,
   "id": "e42b4f9c",
   "metadata": {},
   "outputs": [],
   "source": [
    "from lume_lcls_cu_inj_nn.files import EPICS_CONFIG_FILE\n",
    "from epics import PV, dbr\n",
    "import click\n",
    "import time\n",
    "from functools import partial\n",
    "from lume_services.models import Model\n",
    "from lume_services import config\n",
    "\n",
    "\n",
    "PVNAME_TO_INPUT_MAP = {\n",
    "    \"ACCL:IN20:300:L0A_ADES\": \"L0A_scale:voltage\",\n",
    "    \"ACCL:IN20:400:L0B_PDES\": \"L0B_phase:dtheta0_deg\",\n",
    "    \"ACCL:IN20:300:L0A_PDES\": \"L0A_phase:dtheta0_deg\",\n",
    "    \"QUAD:IN20:122:BACT\": \"SQ01:b1_gradient\",\n",
    "    \"QUAD:IN20:121:BACT\": \"CQ01:b1_gradient\",\n",
    "    \"SOLN:IN20:121:BACT\": \"SOL1:solenoid_field_scale\",\n",
    "    \"BPMS:IN20:221:TMIT\": \"distgen:total_charge:value\",\n",
    "    \"IRIS:LR20:130:CONFG_SEL\": \"distgen:r_dist:sigma_xy:value\"\n",
    "}\n",
    "\n",
    "def monitor_callback(parameter_values, pvname, value, **kwargs):\n",
    "    parameter_values[pvname] = value"
   ]
  },
  {
   "cell_type": "code",
   "execution_count": 4,
   "id": "47d76d48",
   "metadata": {},
   "outputs": [
    {
     "name": "stdout",
     "output_type": "stream",
     "text": [
      "Evaluating model for:\n",
      "{'distgen:t_dist:length:value': 7.499772441611215, 'end_mean_z': 4.6147002, 'ACCL:IN20:300:L0A_ADES': None, 'ACCL:IN20:400:L0B_PDES': None, 'ACCL:IN20:300:L0A_PDES': None, 'QUAD:IN20:122:BACT': None, 'QUAD:IN20:121:BACT': None, 'SOLN:IN20:121:BACT': None, 'BPMS:IN20:221:TMIT': None, 'IRIS:LR20:130:CONFG_SEL': None}\n"
     ]
    }
   ],
   "source": [
    "global PVNAME_TO_INPUT_MAP\n",
    "\n",
    "config.configure()\n",
    "model_db_service = config.context.model_db_service()\n",
    "scheduling_service = config.context.scheduling_service()\n",
    "\n",
    "pvs = {}\n",
    "parameter_values = {\n",
    "    \"distgen:t_dist:length:value\" : 7.499772441611215,\n",
    "    \"end_mean_z\": 4.6147002,\n",
    "}\n",
    "\n",
    "for pvname in PVNAME_TO_INPUT_MAP.keys():\n",
    "    parameter_values[pvname] = None\n",
    "\n",
    "model = Model(model_id = 1, deployment_id=1)\n",
    "\n",
    "for pvname in PVNAME_TO_INPUT_MAP.keys():\n",
    "    pvs[pvname] = PV(pvname, auto_monitor=dbr.DBE_VALUE)\n",
    "    pvs[pvname].add_callback(partial(monitor_callback, parameter_values))\n",
    "\n",
    "print(\"Evaluating model for:\")\n",
    "print(parameter_values)"
   ]
  },
  {
   "cell_type": "code",
   "execution_count": 35,
   "id": "a7e6bac7",
   "metadata": {},
   "outputs": [
    {
     "name": "stderr",
     "output_type": "stream",
     "text": [
      "No project_name passed to result\n",
      "No project_name passed to result\n",
      "No project_name passed to result\n",
      "No project_name passed to result\n",
      "No project_name passed to result\n",
      "No project_name passed to result\n",
      "No project_name passed to result\n",
      "No project_name passed to result\n",
      "No project_name passed to result\n",
      "No project_name passed to result\n",
      "No project_name passed to result\n",
      "No project_name passed to result\n",
      "No project_name passed to result\n",
      "No project_name passed to result\n",
      "No project_name passed to result\n",
      "No project_name passed to result\n",
      "No project_name passed to result\n",
      "No project_name passed to result\n",
      "No project_name passed to result\n",
      "No project_name passed to result\n",
      "No project_name passed to result\n",
      "No project_name passed to result\n",
      "No project_name passed to result\n",
      "No project_name passed to result\n",
      "No project_name passed to result\n",
      "No project_name passed to result\n",
      "No project_name passed to result\n",
      "No project_name passed to result\n",
      "No project_name passed to result\n",
      "No project_name passed to result\n",
      "No project_name passed to result\n",
      "No project_name passed to result\n",
      "No project_name passed to result\n",
      "No project_name passed to result\n",
      "No project_name passed to result\n",
      "No project_name passed to result\n",
      "No project_name passed to result\n",
      "No project_name passed to result\n",
      "No project_name passed to result\n",
      "No project_name passed to result\n",
      "No project_name passed to result\n",
      "No project_name passed to result\n",
      "No project_name passed to result\n",
      "No project_name passed to result\n",
      "No project_name passed to result\n",
      "No project_name passed to result\n",
      "No project_name passed to result\n",
      "No project_name passed to result\n",
      "No project_name passed to result\n",
      "No project_name passed to result\n",
      "No project_name passed to result\n",
      "No project_name passed to result\n",
      "No project_name passed to result\n",
      "No project_name passed to result\n",
      "No project_name passed to result\n",
      "No project_name passed to result\n",
      "No project_name passed to result\n",
      "No project_name passed to result\n",
      "No project_name passed to result\n",
      "No project_name passed to result\n",
      "No project_name passed to result\n",
      "No project_name passed to result\n",
      "No project_name passed to result\n",
      "No project_name passed to result\n",
      "No project_name passed to result\n",
      "No project_name passed to result\n",
      "No project_name passed to result\n",
      "No project_name passed to result\n",
      "No project_name passed to result\n",
      "No project_name passed to result\n",
      "No project_name passed to result\n",
      "No project_name passed to result\n",
      "No project_name passed to result\n",
      "No project_name passed to result\n",
      "No project_name passed to result\n",
      "No project_name passed to result\n",
      "No project_name passed to result\n",
      "No project_name passed to result\n",
      "No project_name passed to result\n",
      "No project_name passed to result\n",
      "No project_name passed to result\n",
      "No project_name passed to result\n",
      "No project_name passed to result\n",
      "No project_name passed to result\n",
      "No project_name passed to result\n",
      "No project_name passed to result\n",
      "No project_name passed to result\n",
      "No project_name passed to result\n",
      "No project_name passed to result\n",
      "No project_name passed to result\n",
      "No project_name passed to result\n",
      "No project_name passed to result\n",
      "No project_name passed to result\n",
      "No project_name passed to result\n",
      "No project_name passed to result\n",
      "No project_name passed to result\n",
      "No project_name passed to result\n",
      "No project_name passed to result\n",
      "No project_name passed to result\n",
      "No project_name passed to result\n",
      "No project_name passed to result\n",
      "No project_name passed to result\n",
      "No project_name passed to result\n",
      "No project_name passed to result\n",
      "No project_name passed to result\n",
      "No project_name passed to result\n",
      "No project_name passed to result\n",
      "No project_name passed to result\n",
      "No project_name passed to result\n",
      "No project_name passed to result\n",
      "No project_name passed to result\n",
      "No project_name passed to result\n",
      "No project_name passed to result\n",
      "No project_name passed to result\n",
      "No project_name passed to result\n",
      "No project_name passed to result\n",
      "No project_name passed to result\n",
      "No project_name passed to result\n",
      "No project_name passed to result\n",
      "No project_name passed to result\n",
      "No project_name passed to result\n",
      "No project_name passed to result\n",
      "No project_name passed to result\n",
      "No project_name passed to result\n",
      "No project_name passed to result\n",
      "No project_name passed to result\n",
      "No project_name passed to result\n",
      "No project_name passed to result\n",
      "No project_name passed to result\n",
      "No project_name passed to result\n",
      "No project_name passed to result\n",
      "No project_name passed to result\n",
      "No project_name passed to result\n",
      "No project_name passed to result\n",
      "No project_name passed to result\n",
      "No project_name passed to result\n",
      "No project_name passed to result\n",
      "No project_name passed to result\n",
      "No project_name passed to result\n",
      "No project_name passed to result\n",
      "No project_name passed to result\n",
      "No project_name passed to result\n",
      "No project_name passed to result\n",
      "No project_name passed to result\n",
      "No project_name passed to result\n",
      "No project_name passed to result\n",
      "No project_name passed to result\n",
      "No project_name passed to result\n",
      "No project_name passed to result\n",
      "No project_name passed to result\n",
      "No project_name passed to result\n"
     ]
    }
   ],
   "source": [
    "# model.run(\n",
    "#                     parameters = parameter_values\n",
    "#                 )\n",
    "results_df = model.get_results_df()"
   ]
  },
  {
   "cell_type": "code",
   "execution_count": 36,
   "id": "2c489cb4",
   "metadata": {},
   "outputs": [
    {
     "name": "stdout",
     "output_type": "stream",
     "text": [
      "151\n"
     ]
    }
   ],
   "source": [
    "print(len(results_df))"
   ]
  },
  {
   "cell_type": "code",
   "execution_count": 15,
   "id": "6d9c1793",
   "metadata": {},
   "outputs": [
    {
     "name": "stdout",
     "output_type": "stream",
     "text": [
      "Index(['project_name', 'flow_id', 'distgen:r_dist:sigma_xy:value',\n",
      "       'distgen:t_dist:length:value', 'distgen:total_charge:value',\n",
      "       'SOL1:solenoid_field_scale', 'CQ01:b1_gradient', 'SQ01:b1_gradient',\n",
      "       'L0A_phase:dtheta0_deg', 'L0A_scale:voltage', 'end_mean_z',\n",
      "       'end_n_particle', 'end_mean_gamma', 'end_sigma_gamma', 'end_mean_x',\n",
      "       'end_mean_y', 'end_norm_emit_x', 'end_norm_emit_y', 'end_norm_emit_z',\n",
      "       'end_sigma_x', 'end_sigma_y', 'end_sigma_z', 'end_mean_px',\n",
      "       'end_mean_py', 'end_mean_pz', 'end_sigma_px', 'end_sigma_py',\n",
      "       'end_sigma_pz', 'end_higher_order_energy_spread', 'end_cov_x__px',\n",
      "       'end_cov_y__py', 'end_cov_z__pz', 'x:y', 'out_ymax', 'out_xmax',\n",
      "       'out_ymin', 'out_xmin', 'date_modified', 'unique_hash',\n",
      "       'result_type_string'],\n",
      "      dtype='object')\n"
     ]
    }
   ],
   "source": [
    " print(results_df.columns)"
   ]
  },
  {
   "cell_type": "code",
   "execution_count": 19,
   "id": "3ad6eeb3",
   "metadata": {},
   "outputs": [
    {
     "data": {
      "text/plain": [
       "project_name                                                                  local\n",
       "flow_id                                        5400f371-e209-4153-95b0-fdb8a90b5caa\n",
       "distgen:r_dist:sigma_xy:value                                              0.137667\n",
       "distgen:t_dist:length:value                                               12.374625\n",
       "distgen:total_charge:value                                                  0.00004\n",
       "SOL1:solenoid_field_scale                                                  0.087426\n",
       "CQ01:b1_gradient                                                           0.003524\n",
       "SQ01:b1_gradient                                                           0.003524\n",
       "L0A_phase:dtheta0_deg                                                       -8.8997\n",
       "L0A_scale:voltage                                                  70000000000000.0\n",
       "end_mean_z                                                                   4.6147\n",
       "end_n_particle                                                          5183.837402\n",
       "end_mean_gamma                                                           148.833679\n",
       "end_sigma_gamma                                                            0.484762\n",
       "end_mean_x                                                                 0.000001\n",
       "end_mean_y                                                                      0.0\n",
       "end_norm_emit_x                                                            0.000017\n",
       "end_norm_emit_y                                                            0.000013\n",
       "end_norm_emit_z                                                            0.000195\n",
       "end_sigma_x                                                                0.002542\n",
       "end_sigma_y                                                                0.002749\n",
       "end_sigma_z                                                                0.000932\n",
       "end_mean_px                                                              -78.166626\n",
       "end_mean_py                                                              -12.492935\n",
       "end_mean_pz                                                              76038152.0\n",
       "end_sigma_px                                                           34257.148438\n",
       "end_sigma_py                                                           26001.109375\n",
       "end_sigma_pz                                                           250141.40625\n",
       "end_higher_order_energy_spread                                         12340.572266\n",
       "end_cov_x__px                                                            -12.867928\n",
       "end_cov_y__py                                                           1197.300171\n",
       "end_cov_z__pz                                                            -13.803169\n",
       "x:y                               [[1.5396431061364324e-15, 4.492893568714936e-1...\n",
       "out_ymax                                                                   0.010092\n",
       "out_xmax                                                                   0.014072\n",
       "out_ymin                                                                  -0.009958\n",
       "out_xmin                                                                  -0.013706\n",
       "date_modified                                            2023-07-04 03:18:50.376000\n",
       "unique_hash                                        156c4661f880f69f65aeeda4328a91b3\n",
       "result_type_string                             lume_services.results.generic.Result\n",
       "Name: 0, dtype: object"
      ]
     },
     "execution_count": 19,
     "metadata": {},
     "output_type": "execute_result"
    }
   ],
   "source": [
    "results_df.iloc[0]"
   ]
  },
  {
   "cell_type": "code",
   "execution_count": null,
   "id": "e57faa59",
   "metadata": {},
   "outputs": [],
   "source": [
    "results_df.iloc[0]"
   ]
  },
  {
   "cell_type": "code",
   "execution_count": 22,
   "id": "774e6fc7",
   "metadata": {},
   "outputs": [
    {
     "data": {
      "image/png": "[encoded data removed]",
      "text/plain": [
       "<Figure size 640x480 with 1 Axes>"
      ]
     },
     "metadata": {},
     "output_type": "display_data"
    }
   ],
   "source": [
    "import matplotlib.pyplot as plt\n",
    "plt.plot(results_df.iloc[0][\"x:y\"][0])\n",
    "plt.show()"
   ]
  },
  {
   "cell_type": "code",
   "execution_count": 32,
   "id": "c1440a6d",
   "metadata": {},
   "outputs": [
    {
     "data": {
      "text/plain": [
       "0      0.000017\n",
       "1      0.000017\n",
       "2      0.000017\n",
       "3      0.000017\n",
       "4      0.000017\n",
       "         ...   \n",
       "112    0.000017\n",
       "113    0.000017\n",
       "114    0.000017\n",
       "115    0.000017\n",
       "116    0.000017\n",
       "Name: end_norm_emit_x, Length: 117, dtype: float64"
      ]
     },
     "execution_count": 32,
     "metadata": {},
     "output_type": "execute_result"
    }
   ],
   "source": [
    "results_df[\"end_norm_emit_x\"]"
   ]
  },
  {
   "cell_type": "code",
   "execution_count": null,
   "id": "faa5c916",
   "metadata": {},
   "outputs": [],
   "source": []
  }
 ],
 "metadata": {
  "kernelspec": {
   "display_name": "Python 3 (ipykernel)",
   "language": "python",
   "name": "python3"
  },
  "language_info": {
   "codemirror_mode": {
    "name": "ipython",
    "version": 3
   },
   "file_extension": ".py",
   "mimetype": "text/x-python",
   "name": "python",
   "nbconvert_exporter": "python",
   "pygments_lexer": "ipython3",
   "version": "3.10.12"
  }
 },
 "nbformat": 4,
 "nbformat_minor": 5
}
