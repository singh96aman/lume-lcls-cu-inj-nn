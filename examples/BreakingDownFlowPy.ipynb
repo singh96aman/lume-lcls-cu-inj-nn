{
 "cells": [
  {
   "cell_type": "code",
   "execution_count": 2,
   "id": "4a27e288-035d-4213-a781-1bd341041489",
   "metadata": {},
   "outputs": [
    {
     "name": "stderr",
     "output_type": "stream",
     "text": [
      "2023-07-31 18:37:07.144906: I tensorflow/core/platform/cpu_feature_guard.cc:182] This TensorFlow binary is optimized to use available CPU instructions in performance-critical operations.\n",
      "To enable the following instructions: SSE4.1 SSE4.2 AVX AVX2 FMA, in other operations, rebuild TensorFlow with the appropriate compiler flags.\n"
     ]
    }
   ],
   "source": [
    "from typing import Dict\n",
    "\n",
    "from prefect import Flow, task, case\n",
    "from prefect import Parameter\n",
    "\n",
    "from lume_services.results import Result\n",
    "from lume_services.tasks import (\n",
    "    configure_lume_services,\n",
    "    prepare_lume_model_variables,\n",
    "    check_local_execution,\n",
    "    SaveDBResult,\n",
    "    LoadDBResult,\n",
    "    LoadFile,\n",
    "    SaveFile,\n",
    ")\n",
    "from lume_services.files import TextFile\n",
    "from lume_model.variables import InputVariable, OutputVariable\n",
    "from prefect.storage import Module\n",
    "\n",
    "from lume_lcls_cu_inj_nn.model import LCLSCuInjNN\n",
    "from lume_lcls_cu_inj_nn import INPUT_VARIABLES, CU_INJ_MAPPING_TABLE"
   ]
  },
  {
   "cell_type": "code",
   "execution_count": 3,
   "id": "e3b690cb-7536-4ae5-9d2e-19057890118b",
   "metadata": {},
   "outputs": [],
   "source": [
    "# CONFIGURE LUME-SERVICES\n",
    "# see https://slaclab.github.io/lume-services/workflows/#configuring-flows-for-use-with-lume-services\n",
    "configure = configure_lume_services.run()\n",
    "\n",
    "# CHECK WHETHER THE FLOW IS RUNNING LOCALLY\n",
    "# If the flow runs using a local backend, the results service will not be available\n",
    "running_local = check_local_execution.run()\n",
    "#running_local.set_upstream(configure)"
   ]
  },
  {
   "cell_type": "code",
   "execution_count": 4,
   "id": "4fbc4556-c3cd-40b4-adb1-120d14e768d1",
   "metadata": {},
   "outputs": [],
   "source": [
    "def preprocessing_task(input_variables):\n",
    "    # scale all values w.r.t. impact factor\n",
    "    for var_name, var in input_variables.items():\n",
    "\n",
    "        # if name included in scaling factors\n",
    "        if (\n",
    "            CU_INJ_MAPPING_TABLE[\"impact_name\"]\n",
    "            .str.contains(var_name, regex=False)\n",
    "            .any()\n",
    "        ):\n",
    "\n",
    "            # scaled_val = (\n",
    "            #     var.value\n",
    "            #     * CU_INJ_MAPPING_TABLE.loc[\n",
    "            #         CU_INJ_MAPPING_TABLE[\"impact_name\"] == var_name, \"impact_factor\"\n",
    "            #     ].item()\n",
    "            # )\n",
    "\n",
    "            var.value = var.value\n",
    "\n",
    "    return input_variables\n",
    "def evaluate(formatted_input_vars):\n",
    "\n",
    "    model = LCLSCuInjNN()\n",
    "\n",
    "    return model.evaluate(formatted_input_vars)"
   ]
  },
  {
   "cell_type": "code",
   "execution_count": 5,
   "id": "0af9b5d7-249a-4b1d-b62b-80d9919740dc",
   "metadata": {},
   "outputs": [],
   "source": [
    "input = {\n",
    "                        \"distgen:r_dist:sigma_xy:value\": 0.4130, \n",
    "                        \"distgen:total_charge:value\": 250.0, \n",
    "                        \"distgen:t_dist:length:value\":7.499772441611215, \n",
    "                        \"SOL1:solenoid_field_scale\": 0.17, \n",
    "                        \"CQ01:b1_gradient\":-0.0074,\n",
    "                        \"SQ01:b1_gradient\": -0.0074,\n",
    "                        \"L0A_phase:dtheta0_deg\": -8.8997,\n",
    "                        \"L0A_scale:voltage\": 70000000.0,\n",
    "                        \"distgen:t_dist:length:value\": 7.499772441611215,\n",
    "                        \"end_mean_z\": 4.6147002\n",
    "    }"
   ]
  },
  {
   "cell_type": "code",
   "execution_count": 6,
   "id": "664ffd8c-f0f7-4848-9870-0faee92dbb33",
   "metadata": {},
   "outputs": [
    {
     "name": "stderr",
     "output_type": "stream",
     "text": [
      "2023-07-31 18:37:10.094193: I tensorflow/compiler/xla/stream_executor/cuda/cuda_gpu_executor.cc:996] successful NUMA node read from SysFS had negative value (-1), but there must be at least one NUMA node, so returning NUMA node zero. See more at https://github.com/torvalds/linux/blob/v6.0/Documentation/ABI/testing/sysfs-bus-pci#L344-L355\n",
      "2023-07-31 18:37:10.094417: I tensorflow/compiler/xla/stream_executor/cuda/cuda_gpu_executor.cc:996] successful NUMA node read from SysFS had negative value (-1), but there must be at least one NUMA node, so returning NUMA node zero. See more at https://github.com/torvalds/linux/blob/v6.0/Documentation/ABI/testing/sysfs-bus-pci#L344-L355\n",
      "2023-07-31 18:37:10.111619: I tensorflow/compiler/xla/stream_executor/cuda/cuda_gpu_executor.cc:996] successful NUMA node read from SysFS had negative value (-1), but there must be at least one NUMA node, so returning NUMA node zero. See more at https://github.com/torvalds/linux/blob/v6.0/Documentation/ABI/testing/sysfs-bus-pci#L344-L355\n",
      "2023-07-31 18:37:10.111869: I tensorflow/compiler/xla/stream_executor/cuda/cuda_gpu_executor.cc:996] successful NUMA node read from SysFS had negative value (-1), but there must be at least one NUMA node, so returning NUMA node zero. See more at https://github.com/torvalds/linux/blob/v6.0/Documentation/ABI/testing/sysfs-bus-pci#L344-L355\n",
      "2023-07-31 18:37:10.112054: I tensorflow/compiler/xla/stream_executor/cuda/cuda_gpu_executor.cc:996] successful NUMA node read from SysFS had negative value (-1), but there must be at least one NUMA node, so returning NUMA node zero. See more at https://github.com/torvalds/linux/blob/v6.0/Documentation/ABI/testing/sysfs-bus-pci#L344-L355\n",
      "2023-07-31 18:37:10.112236: I tensorflow/compiler/xla/stream_executor/cuda/cuda_gpu_executor.cc:996] successful NUMA node read from SysFS had negative value (-1), but there must be at least one NUMA node, so returning NUMA node zero. See more at https://github.com/torvalds/linux/blob/v6.0/Documentation/ABI/testing/sysfs-bus-pci#L344-L355\n",
      "2023-07-31 18:37:10.250529: I tensorflow/compiler/xla/stream_executor/cuda/cuda_gpu_executor.cc:996] successful NUMA node read from SysFS had negative value (-1), but there must be at least one NUMA node, so returning NUMA node zero. See more at https://github.com/torvalds/linux/blob/v6.0/Documentation/ABI/testing/sysfs-bus-pci#L344-L355\n",
      "2023-07-31 18:37:10.250744: I tensorflow/compiler/xla/stream_executor/cuda/cuda_gpu_executor.cc:996] successful NUMA node read from SysFS had negative value (-1), but there must be at least one NUMA node, so returning NUMA node zero. See more at https://github.com/torvalds/linux/blob/v6.0/Documentation/ABI/testing/sysfs-bus-pci#L344-L355\n",
      "2023-07-31 18:37:10.250928: I tensorflow/compiler/xla/stream_executor/cuda/cuda_gpu_executor.cc:996] successful NUMA node read from SysFS had negative value (-1), but there must be at least one NUMA node, so returning NUMA node zero. See more at https://github.com/torvalds/linux/blob/v6.0/Documentation/ABI/testing/sysfs-bus-pci#L344-L355\n",
      "2023-07-31 18:37:10.251102: I tensorflow/compiler/xla/stream_executor/cuda/cuda_gpu_executor.cc:996] successful NUMA node read from SysFS had negative value (-1), but there must be at least one NUMA node, so returning NUMA node zero. See more at https://github.com/torvalds/linux/blob/v6.0/Documentation/ABI/testing/sysfs-bus-pci#L344-L355\n",
      "2023-07-31 18:37:10.251276: I tensorflow/compiler/xla/stream_executor/cuda/cuda_gpu_executor.cc:996] successful NUMA node read from SysFS had negative value (-1), but there must be at least one NUMA node, so returning NUMA node zero. See more at https://github.com/torvalds/linux/blob/v6.0/Documentation/ABI/testing/sysfs-bus-pci#L344-L355\n",
      "2023-07-31 18:37:10.251581: I tensorflow/compiler/xla/stream_executor/cuda/cuda_gpu_executor.cc:996] successful NUMA node read from SysFS had negative value (-1), but there must be at least one NUMA node, so returning NUMA node zero. See more at https://github.com/torvalds/linux/blob/v6.0/Documentation/ABI/testing/sysfs-bus-pci#L344-L355\n",
      "2023-07-31 18:37:10.747726: I tensorflow/compiler/xla/stream_executor/cuda/cuda_gpu_executor.cc:996] successful NUMA node read from SysFS had negative value (-1), but there must be at least one NUMA node, so returning NUMA node zero. See more at https://github.com/torvalds/linux/blob/v6.0/Documentation/ABI/testing/sysfs-bus-pci#L344-L355\n",
      "2023-07-31 18:37:10.747957: I tensorflow/compiler/xla/stream_executor/cuda/cuda_gpu_executor.cc:996] successful NUMA node read from SysFS had negative value (-1), but there must be at least one NUMA node, so returning NUMA node zero. See more at https://github.com/torvalds/linux/blob/v6.0/Documentation/ABI/testing/sysfs-bus-pci#L344-L355\n",
      "2023-07-31 18:37:10.748148: I tensorflow/compiler/xla/stream_executor/cuda/cuda_gpu_executor.cc:996] successful NUMA node read from SysFS had negative value (-1), but there must be at least one NUMA node, so returning NUMA node zero. See more at https://github.com/torvalds/linux/blob/v6.0/Documentation/ABI/testing/sysfs-bus-pci#L344-L355\n",
      "2023-07-31 18:37:10.748329: I tensorflow/compiler/xla/stream_executor/cuda/cuda_gpu_executor.cc:996] successful NUMA node read from SysFS had negative value (-1), but there must be at least one NUMA node, so returning NUMA node zero. See more at https://github.com/torvalds/linux/blob/v6.0/Documentation/ABI/testing/sysfs-bus-pci#L344-L355\n",
      "2023-07-31 18:37:10.748505: I tensorflow/compiler/xla/stream_executor/cuda/cuda_gpu_executor.cc:996] successful NUMA node read from SysFS had negative value (-1), but there must be at least one NUMA node, so returning NUMA node zero. See more at https://github.com/torvalds/linux/blob/v6.0/Documentation/ABI/testing/sysfs-bus-pci#L344-L355\n",
      "2023-07-31 18:37:10.748649: I tensorflow/core/common_runtime/gpu/gpu_device.cc:1635] Created device /job:localhost/replica:0/task:0/device:GPU:0 with 46714 MB memory:  -> device: 0, name: NVIDIA RTX A6000, pci bus id: 0000:2a:00.0, compute capability: 8.6\n",
      "2023-07-31 18:37:10.748986: I tensorflow/compiler/xla/stream_executor/cuda/cuda_gpu_executor.cc:996] successful NUMA node read from SysFS had negative value (-1), but there must be at least one NUMA node, so returning NUMA node zero. See more at https://github.com/torvalds/linux/blob/v6.0/Documentation/ABI/testing/sysfs-bus-pci#L344-L355\n",
      "2023-07-31 18:37:10.749126: I tensorflow/core/common_runtime/gpu/gpu_device.cc:1635] Created device /job:localhost/replica:0/task:0/device:GPU:1 with 46669 MB memory:  -> device: 1, name: NVIDIA RTX A6000, pci bus id: 0000:61:00.0, compute capability: 8.6\n"
     ]
    },
    {
     "name": "stdout",
     "output_type": "stream",
     "text": [
      "[array([[ 4.13000000e-01,  7.49977244e+00,  2.50000000e+02,\n",
      "         1.70000000e-01, -7.40000000e-03, -7.40000000e-03,\n",
      "        -8.89970000e+00,  7.00000000e+07,  4.61470020e+00]])]\n",
      "1/1 [==============================] - 1s 721ms/step\n"
     ]
    },
    {
     "name": "stderr",
     "output_type": "stream",
     "text": [
      "2023-07-31 18:37:12.020178: I tensorflow/compiler/xla/stream_executor/cuda/cuda_blas.cc:637] TensorFloat-32 will be used for the matrix multiplication. This will only be logged once.\n"
     ]
    }
   ],
   "source": [
    "    input_variable_parameter_dict = {\n",
    "        var_name: Parameter(var_name, default=var.default)\n",
    "        for var_name, var in INPUT_VARIABLES.items()\n",
    "    }\n",
    "\n",
    "    # ORGANIZE INPUT VARIABLE VALUES LUME-MODEL VARIABLES\n",
    "    formatted_input_vars = prepare_lume_model_variables.run(\n",
    "        input_variable_parameter_dict, INPUT_VARIABLES\n",
    "    )\n",
    "\n",
    "    # Perform scaling of variables\n",
    "    processed_input_vars = preprocessing_task(formatted_input_vars)\n",
    "\n",
    "    for key in input.keys():\n",
    "        processed_input_vars[key].value = input[key]\n",
    "\n",
    "    # # RUN EVALUATION\n",
    "    #print(processed_input_vars)\n",
    "    output_variables = evaluate(processed_input_vars)\n",
    "\n",
    "    # # SAVE RESULTS TO RESULTS DATABASE, requires LUME-services results backend \n",
    "    # with case(running_local, False):\n",
    "    #     # CREATE LUME-services Result object\n",
    "    #     formatted_result = format_result(\n",
    "    #         input_variables=processed_input_vars, output_variables=output_variables\n",
    "    #     )\n",
    "\n",
    "    #     # RUN DATABASE_SAVE_TASK\n",
    "    #     saved_model_rep = save_db_result_task(formatted_result)\n",
    "    #     saved_model_rep.set_upstream(configure)\n",
    "\n"
   ]
  },
  {
   "cell_type": "code",
   "execution_count": 7,
   "id": "ee6c2e3c-af51-4ad0-9c5b-87ab62d0f979",
   "metadata": {},
   "outputs": [
    {
     "data": {
      "text/plain": [
       "{'end_n_particle': ScalarOutputVariable(variable_type='scalar', units='1', parent_variable=None, value_range=None, name='end_n_particle', value=9998.101, precision=None, default=None),\n",
       " 'end_mean_gamma': ScalarOutputVariable(variable_type='scalar', units='1', parent_variable=None, value_range=None, name='end_mean_gamma', value=147.09068, precision=None, default=None),\n",
       " 'end_sigma_gamma': ScalarOutputVariable(variable_type='scalar', units='1', parent_variable=None, value_range=None, name='end_sigma_gamma', value=0.54239374, precision=None, default=None),\n",
       " 'end_mean_x': ScalarOutputVariable(variable_type='scalar', units='m', parent_variable=None, value_range=None, name='end_mean_x', value=-1.0433723e-08, precision=None, default=None),\n",
       " 'end_mean_y': ScalarOutputVariable(variable_type='scalar', units='m', parent_variable=None, value_range=None, name='end_mean_y', value=-4.6587957e-08, precision=None, default=None),\n",
       " 'end_norm_emit_x': ScalarOutputVariable(variable_type='scalar', units='m', parent_variable=None, value_range=None, name='end_norm_emit_x', value=6.4917567e-06, precision=None, default=None),\n",
       " 'end_norm_emit_y': ScalarOutputVariable(variable_type='scalar', units='m', parent_variable=None, value_range=None, name='end_norm_emit_y', value=6.2211443e-06, precision=None, default=None),\n",
       " 'end_norm_emit_z': ScalarOutputVariable(variable_type='scalar', units='m', parent_variable=None, value_range=None, name='end_norm_emit_z', value=4.2888554e-05, precision=None, default=None),\n",
       " 'end_sigma_x': ScalarOutputVariable(variable_type='scalar', units='m', parent_variable=None, value_range=None, name='end_sigma_x', value=0.00035093023, precision=None, default=None),\n",
       " 'end_sigma_y': ScalarOutputVariable(variable_type='scalar', units='m', parent_variable=None, value_range=None, name='end_sigma_y', value=0.00035413538, precision=None, default=None),\n",
       " 'end_sigma_z': ScalarOutputVariable(variable_type='scalar', units='m', parent_variable=None, value_range=None, name='end_sigma_z', value=0.0005574141, precision=None, default=None),\n",
       " 'end_mean_px': ScalarOutputVariable(variable_type='scalar', units='eV/c', parent_variable=None, value_range=None, name='end_mean_px', value=-1.7315674, precision=None, default=None),\n",
       " 'end_mean_py': ScalarOutputVariable(variable_type='scalar', units='eV/c', parent_variable=None, value_range=None, name='end_mean_py', value=0.2567749, precision=None, default=None),\n",
       " 'end_mean_pz': ScalarOutputVariable(variable_type='scalar', units='eV/c', parent_variable=None, value_range=None, name='end_mean_pz', value=75161304.0, precision=None, default=None),\n",
       " 'end_sigma_px': ScalarOutputVariable(variable_type='scalar', units='eV/c', parent_variable=None, value_range=None, name='end_sigma_px', value=43132.39, precision=None, default=None),\n",
       " 'end_sigma_py': ScalarOutputVariable(variable_type='scalar', units='eV/c', parent_variable=None, value_range=None, name='end_sigma_py', value=43268.535, precision=None, default=None),\n",
       " 'end_sigma_pz': ScalarOutputVariable(variable_type='scalar', units='eV/c', parent_variable=None, value_range=None, name='end_sigma_pz', value=277180.06, precision=None, default=None),\n",
       " 'end_higher_order_energy_spread': ScalarOutputVariable(variable_type='scalar', units='eV', parent_variable=None, value_range=None, name='end_higher_order_energy_spread', value=3779.7986, precision=None, default=None),\n",
       " 'end_cov_x__px': ScalarOutputVariable(variable_type='scalar', units='m-eV/c', parent_variable=None, value_range=None, name='end_cov_x__px', value=-14.038162, precision=None, default=None),\n",
       " 'end_cov_y__py': ScalarOutputVariable(variable_type='scalar', units='m-eV/c', parent_variable=None, value_range=None, name='end_cov_y__py', value=-159.30188, precision=None, default=None),\n",
       " 'end_cov_z__pz': ScalarOutputVariable(variable_type='scalar', units='m-eV/c', parent_variable=None, value_range=None, name='end_cov_z__pz', value=-14.965645, precision=None, default=None),\n",
       " 'x:y': ImageOutputVariable(variable_type='image', axis_labels=['x', 'y'], axis_units=None, x_min_variable='out_xmin', x_max_variable='out_xmax', y_min_variable='out_ymin', y_max_variable='out_ymax', name='x:y', value=array([[-1.4806032e-15,  6.1908140e-16, -1.1807978e-16, ...,\n",
       "          4.3379665e-16,  8.6926820e-16, -2.7551949e-16],\n",
       "        [-3.7768781e-16,  1.0296390e-15, -1.1263639e-16, ...,\n",
       "         -1.8943011e-15, -1.3947651e-15,  1.2170174e-15],\n",
       "        [ 3.3162833e-16,  1.7146691e-15,  5.3094032e-16, ...,\n",
       "         -2.6337653e-16, -8.7345540e-16,  3.7454738e-16],\n",
       "        ...,\n",
       "        [-1.3851344e-15, -1.7251372e-15, -3.3958404e-15, ...,\n",
       "          2.3758321e-15,  1.2310445e-15,  7.5663177e-16],\n",
       "        [-8.7513030e-16, -4.9576759e-16, -4.6603827e-16, ...,\n",
       "          1.3374001e-15, -5.7699980e-16,  5.2424071e-16],\n",
       "        [ 1.1401817e-15,  1.6518608e-16,  4.9283654e-16, ...,\n",
       "          6.8398339e-16,  1.7942265e-16,  8.6005629e-16]], dtype=float32), precision=None, default=None, value_range=None, x_min=-0.010724568739533424, x_max=0.010775146074593067, y_min=-0.010956162586808205, y_max=0.010805758647620678),\n",
       " 'out_ymax': ScalarOutputVariable(variable_type='scalar', units=None, parent_variable='x:y', value_range=None, name='out_ymax', value=0.010805758647620678, precision=None, default=None),\n",
       " 'out_xmax': ScalarOutputVariable(variable_type='scalar', units=None, parent_variable='x:y', value_range=None, name='out_xmax', value=0.010775146074593067, precision=None, default=None),\n",
       " 'out_ymin': ScalarOutputVariable(variable_type='scalar', units=None, parent_variable='x:y', value_range=None, name='out_ymin', value=-0.010956162586808205, precision=None, default=None),\n",
       " 'out_xmin': ScalarOutputVariable(variable_type='scalar', units=None, parent_variable='x:y', value_range=None, name='out_xmin', value=-0.010724568739533424, precision=None, default=None)}"
      ]
     },
     "execution_count": 7,
     "metadata": {},
     "output_type": "execute_result"
    }
   ],
   "source": [
    "output_variables"
   ]
  },
  {
   "cell_type": "code",
   "execution_count": 1,
   "id": "a4faa2a7-30fc-44b8-85ee-f88ce42535ec",
   "metadata": {},
   "outputs": [],
   "source": [
    "import torch\n",
    "import matplotlib.pyplot as plt\n",
    "\n",
    "from lume_model.utils import variables_from_yaml\n",
    "from lume_model.torch import LUMEModule, PyTorchModel"
   ]
  },
  {
   "cell_type": "code",
   "execution_count": 47,
   "id": "b8301d1f-1a1e-4f37-b567-baa01ca100bb",
   "metadata": {},
   "outputs": [],
   "source": [
    "# load transformers\n",
    "input_transformer = torch.load(\"torch_model/input_transformer.pt\")\n",
    "output_transformer = torch.load(\"torch_model/output_transformer.pt\")"
   ]
  },
  {
   "cell_type": "code",
   "execution_count": 48,
   "id": "f201a571-d3de-4a48-aadc-f6d3fbca31de",
   "metadata": {},
   "outputs": [],
   "source": [
    "input_variables, output_variables = variables_from_yaml(open(\"torch_model/variables.yml\"))"
   ]
  },
  {
   "cell_type": "code",
   "execution_count": 55,
   "id": "171b13b2-7b96-4bc2-b9a9-6cd5d3ee17e9",
   "metadata": {},
   "outputs": [
    {
     "name": "stdout",
     "output_type": "stream",
     "text": [
      "PyTorch Model -  dict_keys(['distgen:r_dist:sigma_xy:value', 'distgen:t_dist:length:value', 'distgen:total_charge:value', 'SOL1:solenoid_field_scale', 'CQ01:b1_gradient', 'SQ01:b1_gradient', 'L0A_scale:voltage', 'L0A_phase:dtheta0_deg', 'L0B_scale:voltage', 'L0B_phase:dtheta0_deg', 'QA01:b1_gradient', 'QA02:b1_gradient', 'QE01:b1_gradient', 'QE02:b1_gradient', 'QE03:b1_gradient', 'QE04:b1_gradient'])\n",
      "Keras Model -  dict_keys(['distgen:r_dist:sigma_xy:value', 'distgen:total_charge:value', 'distgen:t_dist:length:value', 'SOL1:solenoid_field_scale', 'CQ01:b1_gradient', 'SQ01:b1_gradient', 'L0A_phase:dtheta0_deg', 'L0A_scale:voltage', 'end_mean_z'])\n"
     ]
    },
    {
     "ename": "KeyError",
     "evalue": "'end_mean_z'",
     "output_type": "error",
     "traceback": [
      "\u001b[0;31m---------------------------------------------------------------------------\u001b[0m",
      "\u001b[0;31mKeyError\u001b[0m                                  Traceback (most recent call last)",
      "Cell \u001b[0;32mIn[55], line 6\u001b[0m\n\u001b[1;32m      4\u001b[0m input_variables_10 \u001b[38;5;241m=\u001b[39m {}\n\u001b[1;32m      5\u001b[0m \u001b[38;5;28;01mfor\u001b[39;00m key \u001b[38;5;129;01min\u001b[39;00m \u001b[38;5;28minput\u001b[39m\u001b[38;5;241m.\u001b[39mkeys():\n\u001b[0;32m----> 6\u001b[0m     input_variables_10[key] \u001b[38;5;241m=\u001b[39m \u001b[43minput_variables\u001b[49m\u001b[43m[\u001b[49m\u001b[43mkey\u001b[49m\u001b[43m]\u001b[49m\n\u001b[1;32m      7\u001b[0m input_variables_10\n\u001b[1;32m      9\u001b[0m \u001b[38;5;28;01mfor\u001b[39;00m key \u001b[38;5;129;01min\u001b[39;00m input_variables_10\u001b[38;5;241m.\u001b[39mkeys():\n",
      "\u001b[0;31mKeyError\u001b[0m: 'end_mean_z'"
     ]
    }
   ],
   "source": [
    "print('PyTorch Model - ', input_variables.keys())\n",
    "print('Keras Model - ', input.keys())\n",
    "\n",
    "input_variables_10 = {}\n",
    "for key in input.keys():\n",
    "    input_variables_10[key] = input_variables[key]\n",
    "input_variables_10\n",
    "\n",
    "for key in input_variables_10.keys():\n",
    "    if key not in input_variables:\n",
    "        print(key)\n"
   ]
  },
  {
   "cell_type": "code",
   "execution_count": 39,
   "id": "11222041-c5e6-4509-9a26-a9b0c146d1ad",
   "metadata": {},
   "outputs": [],
   "source": [
    "lume_model = PyTorchModel(\n",
    "    model_file=\"torch_model/model.pt\",\n",
    "    input_variables=input_variables_10,\n",
    "    output_variables=output_variables,\n",
    "    input_transformers=[input_transformer],\n",
    "    output_transformers=[output_transformer],\n",
    ")"
   ]
  },
  {
   "cell_type": "code",
   "execution_count": 40,
   "id": "9c942ab5-8db3-4259-a87b-62cd96030740",
   "metadata": {},
   "outputs": [
    {
     "data": {
      "text/plain": [
       "LUMEModule(\n",
       "  (base_model): Sequential(\n",
       "    (0): Linear(in_features=16, out_features=100, bias=True)\n",
       "    (1): ELU(alpha=1.0)\n",
       "    (2): Linear(in_features=100, out_features=200, bias=True)\n",
       "    (3): ELU(alpha=1.0)\n",
       "    (4): Dropout(p=0.05, inplace=False)\n",
       "    (5): Linear(in_features=200, out_features=200, bias=True)\n",
       "    (6): ELU(alpha=1.0)\n",
       "    (7): Dropout(p=0.05, inplace=False)\n",
       "    (8): Linear(in_features=200, out_features=300, bias=True)\n",
       "    (9): ELU(alpha=1.0)\n",
       "    (10): Dropout(p=0.05, inplace=False)\n",
       "    (11): Linear(in_features=300, out_features=300, bias=True)\n",
       "    (12): ELU(alpha=1.0)\n",
       "    (13): Dropout(p=0.05, inplace=False)\n",
       "    (14): Linear(in_features=300, out_features=200, bias=True)\n",
       "    (15): ELU(alpha=1.0)\n",
       "    (16): Dropout(p=0.05, inplace=False)\n",
       "    (17): Linear(in_features=200, out_features=100, bias=True)\n",
       "    (18): ELU(alpha=1.0)\n",
       "    (19): Dropout(p=0.05, inplace=False)\n",
       "    (20): Linear(in_features=100, out_features=100, bias=True)\n",
       "    (21): ELU(alpha=1.0)\n",
       "    (22): Linear(in_features=100, out_features=100, bias=True)\n",
       "    (23): ELU(alpha=1.0)\n",
       "    (24): Linear(in_features=100, out_features=5, bias=True)\n",
       "  )\n",
       ")"
      ]
     },
     "execution_count": 40,
     "metadata": {},
     "output_type": "execute_result"
    }
   ],
   "source": [
    "lume_module = LUMEModule(\n",
    "    model=lume_model,\n",
    "    feature_order=lume_model.features,\n",
    "    output_order=lume_model.outputs,\n",
    ")\n",
    "lume_module"
   ]
  },
  {
   "cell_type": "code",
   "execution_count": 41,
   "id": "4ad83a20-2636-4f25-ad66-41f08f895ba5",
   "metadata": {},
   "outputs": [],
   "source": [
    "inputs_small = torch.load(\"info/inputs_small.pt\")\n",
    "outputs_small = torch.load(\"info/outputs_small.pt\")\n",
    "with torch.no_grad():\n",
    "    predictions = lume_module(inputs_small)"
   ]
  },
  {
   "cell_type": "code",
   "execution_count": 42,
   "id": "49dfcc7e-83c1-43d5-a525-b72e4d5036b2",
   "metadata": {},
   "outputs": [
    {
     "data": {
      "text/plain": [
       "tensor([[1.7824e-04, 1.4451e-03, 5.4184e-04, 1.4162e-06, 1.1945e-06],\n",
       "        [1.7793e-04, 8.5264e-04, 6.5828e-04, 1.1827e-06, 1.1378e-06],\n",
       "        [2.9690e-04, 2.0847e-04, 7.0719e-04, 1.6769e-06, 9.0121e-07],\n",
       "        ...,\n",
       "        [1.3290e-03, 1.5062e-03, 4.2577e-04, 5.8380e-07, 5.8444e-07],\n",
       "        [1.5413e-03, 1.7313e-03, 4.2518e-04, 5.9533e-07, 5.8237e-07],\n",
       "        [6.2685e-04, 6.9299e-05, 5.1763e-04, 7.5973e-07, 9.7208e-07]],\n",
       "       dtype=torch.float64)"
      ]
     },
     "execution_count": 42,
     "metadata": {},
     "output_type": "execute_result"
    }
   ],
   "source": [
    "predictions"
   ]
  },
  {
   "cell_type": "code",
   "execution_count": 43,
   "id": "2f1fa615-84fe-4fb0-ba1a-c0c9ea67b9f4",
   "metadata": {},
   "outputs": [
    {
     "name": "stdout",
     "output_type": "stream",
     "text": [
      "tensor([[ 4.1300e-01,  7.4998e+00,  2.5000e+02,  1.7000e-01, -7.4000e-03,\n",
      "         -7.4000e-03, -8.8997e+00,  7.0000e+07,  4.6147e+00]])\n"
     ]
    }
   ],
   "source": [
    "import numpy as np\n",
    "all_values = []\n",
    "for key in processed_input_vars:\n",
    "    all_values.append(processed_input_vars[key].value)\n",
    "all_values = torch.Tensor([np.array(all_values)])\n",
    "print(all_values)"
   ]
  },
  {
   "cell_type": "code",
   "execution_count": 44,
   "id": "861c4c1d-1bd4-4ce9-810c-ec48554200d8",
   "metadata": {},
   "outputs": [
    {
     "data": {
      "text/plain": [
       "dict_keys(['distgen:r_dist:sigma_xy:value', 'distgen:t_dist:length:value', 'distgen:total_charge:value', 'SOL1:solenoid_field_scale', 'CQ01:b1_gradient', 'SQ01:b1_gradient', 'L0A_scale:voltage', 'L0A_phase:dtheta0_deg', 'L0B_scale:voltage', 'L0B_phase:dtheta0_deg', 'QA01:b1_gradient', 'QA02:b1_gradient', 'QE01:b1_gradient', 'QE02:b1_gradient', 'QE03:b1_gradient', 'QE04:b1_gradient'])"
      ]
     },
     "execution_count": 44,
     "metadata": {},
     "output_type": "execute_result"
    }
   ],
   "source": [
    "input_variables.keys()"
   ]
  },
  {
   "cell_type": "code",
   "execution_count": 45,
   "id": "468a6ca0-df33-4e38-a96e-72686de253c6",
   "metadata": {},
   "outputs": [
    {
     "ename": "IndexError",
     "evalue": "index 9 is out of bounds for dimension 1 with size 9",
     "output_type": "error",
     "traceback": [
      "\u001b[0;31m---------------------------------------------------------------------------\u001b[0m",
      "\u001b[0;31mIndexError\u001b[0m                                Traceback (most recent call last)",
      "Cell \u001b[0;32mIn[45], line 1\u001b[0m\n\u001b[0;32m----> 1\u001b[0m output_variables_torch \u001b[38;5;241m=\u001b[39m \u001b[43mlume_module\u001b[49m\u001b[43m(\u001b[49m\u001b[43mall_values\u001b[49m\u001b[43m)\u001b[49m\n\u001b[1;32m      2\u001b[0m output_variables_torch\n",
      "File \u001b[0;32m~/.conda/envs/lume-lcls-cu-inj-nn-torch/lib/python3.9/site-packages/torch/nn/modules/module.py:1501\u001b[0m, in \u001b[0;36mModule._call_impl\u001b[0;34m(self, *args, **kwargs)\u001b[0m\n\u001b[1;32m   1496\u001b[0m \u001b[38;5;66;03m# If we don't have any hooks, we want to skip the rest of the logic in\u001b[39;00m\n\u001b[1;32m   1497\u001b[0m \u001b[38;5;66;03m# this function, and just call forward.\u001b[39;00m\n\u001b[1;32m   1498\u001b[0m \u001b[38;5;28;01mif\u001b[39;00m \u001b[38;5;129;01mnot\u001b[39;00m (\u001b[38;5;28mself\u001b[39m\u001b[38;5;241m.\u001b[39m_backward_hooks \u001b[38;5;129;01mor\u001b[39;00m \u001b[38;5;28mself\u001b[39m\u001b[38;5;241m.\u001b[39m_backward_pre_hooks \u001b[38;5;129;01mor\u001b[39;00m \u001b[38;5;28mself\u001b[39m\u001b[38;5;241m.\u001b[39m_forward_hooks \u001b[38;5;129;01mor\u001b[39;00m \u001b[38;5;28mself\u001b[39m\u001b[38;5;241m.\u001b[39m_forward_pre_hooks\n\u001b[1;32m   1499\u001b[0m         \u001b[38;5;129;01mor\u001b[39;00m _global_backward_pre_hooks \u001b[38;5;129;01mor\u001b[39;00m _global_backward_hooks\n\u001b[1;32m   1500\u001b[0m         \u001b[38;5;129;01mor\u001b[39;00m _global_forward_hooks \u001b[38;5;129;01mor\u001b[39;00m _global_forward_pre_hooks):\n\u001b[0;32m-> 1501\u001b[0m     \u001b[38;5;28;01mreturn\u001b[39;00m \u001b[43mforward_call\u001b[49m\u001b[43m(\u001b[49m\u001b[38;5;241;43m*\u001b[39;49m\u001b[43margs\u001b[49m\u001b[43m,\u001b[49m\u001b[43m \u001b[49m\u001b[38;5;241;43m*\u001b[39;49m\u001b[38;5;241;43m*\u001b[39;49m\u001b[43mkwargs\u001b[49m\u001b[43m)\u001b[49m\n\u001b[1;32m   1502\u001b[0m \u001b[38;5;66;03m# Do not call functions when jit is used\u001b[39;00m\n\u001b[1;32m   1503\u001b[0m full_backward_hooks, non_full_backward_hooks \u001b[38;5;241m=\u001b[39m [], []\n",
      "File \u001b[0;32m~/.conda/envs/lume-lcls-cu-inj-nn-torch/lib/python3.9/site-packages/lume_model/torch/module.py:58\u001b[0m, in \u001b[0;36mLUMEModule.forward\u001b[0;34m(self, x)\u001b[0m\n\u001b[1;32m     53\u001b[0m \u001b[38;5;28;01mdef\u001b[39;00m \u001b[38;5;21mforward\u001b[39m(\u001b[38;5;28mself\u001b[39m, x: torch\u001b[38;5;241m.\u001b[39mTensor):\n\u001b[1;32m     54\u001b[0m     \u001b[38;5;66;03m# incoming tensor will be of the shape [b,n,m] where b is the batch number,\u001b[39;00m\n\u001b[1;32m     55\u001b[0m     \u001b[38;5;66;03m# n is the number of samples and m is the number of features we need to break up\u001b[39;00m\n\u001b[1;32m     56\u001b[0m     \u001b[38;5;66;03m# this tensor into a dictionary format that the PyTorchModel will accept\u001b[39;00m\n\u001b[1;32m     57\u001b[0m     x \u001b[38;5;241m=\u001b[39m \u001b[38;5;28mself\u001b[39m\u001b[38;5;241m.\u001b[39m_validate_input(x)\n\u001b[0;32m---> 58\u001b[0m     model_input \u001b[38;5;241m=\u001b[39m \u001b[38;5;28;43mself\u001b[39;49m\u001b[38;5;241;43m.\u001b[39;49m\u001b[43m_tensor_to_dictionary\u001b[49m\u001b[43m(\u001b[49m\u001b[43mx\u001b[49m\u001b[43m)\u001b[49m\n\u001b[1;32m     59\u001b[0m     \u001b[38;5;66;03m# evaluate model\u001b[39;00m\n\u001b[1;32m     60\u001b[0m     y_model \u001b[38;5;241m=\u001b[39m \u001b[38;5;28mself\u001b[39m\u001b[38;5;241m.\u001b[39mevaluate_model(model_input)\n",
      "File \u001b[0;32m~/.conda/envs/lume-lcls-cu-inj-nn-torch/lib/python3.9/site-packages/lume_model/torch/module.py:70\u001b[0m, in \u001b[0;36mLUMEModule._tensor_to_dictionary\u001b[0;34m(self, x)\u001b[0m\n\u001b[1;32m     68\u001b[0m input_dict \u001b[38;5;241m=\u001b[39m {}\n\u001b[1;32m     69\u001b[0m \u001b[38;5;28;01mfor\u001b[39;00m idx, feature \u001b[38;5;129;01min\u001b[39;00m \u001b[38;5;28menumerate\u001b[39m(\u001b[38;5;28mself\u001b[39m\u001b[38;5;241m.\u001b[39m_feature_order):\n\u001b[0;32m---> 70\u001b[0m     input_dict[feature] \u001b[38;5;241m=\u001b[39m \u001b[43mx\u001b[49m\u001b[43m[\u001b[49m\u001b[38;5;241;43m.\u001b[39;49m\u001b[38;5;241;43m.\u001b[39;49m\u001b[38;5;241;43m.\u001b[39;49m\u001b[43m,\u001b[49m\u001b[43m \u001b[49m\u001b[43midx\u001b[49m\u001b[43m]\u001b[49m\u001b[38;5;241m.\u001b[39munsqueeze(\u001b[38;5;241m-\u001b[39m\u001b[38;5;241m1\u001b[39m)  \u001b[38;5;66;03m# index by the last dimension\u001b[39;00m\n\u001b[1;32m     71\u001b[0m \u001b[38;5;28;01mreturn\u001b[39;00m input_dict\n",
      "\u001b[0;31mIndexError\u001b[0m: index 9 is out of bounds for dimension 1 with size 9"
     ]
    }
   ],
   "source": [
    "output_variables_torch = lume_module(all_values)\n",
    "output_variables_torch"
   ]
  },
  {
   "cell_type": "code",
   "execution_count": null,
   "id": "6c21a12c-eeb6-4156-868b-179db960d0d6",
   "metadata": {},
   "outputs": [],
   "source": []
  }
 ],
 "metadata": {
  "kernelspec": {
   "display_name": "Python [conda env:.conda-lume-lcls-cu-inj-nn-torch] *",
   "language": "python",
   "name": "conda-env-.conda-lume-lcls-cu-inj-nn-torch-py"
  },
  "language_info": {
   "codemirror_mode": {
    "name": "ipython",
    "version": 3
   },
   "file_extension": ".py",
   "mimetype": "text/x-python",
   "name": "python",
   "nbconvert_exporter": "python",
   "pygments_lexer": "ipython3",
   "version": "3.9.16"
  }
 },
 "nbformat": 4,
 "nbformat_minor": 5
}
