{
 "cells": [
  {
   "cell_type": "code",
   "execution_count": 1,
   "id": "4a27e288-035d-4213-a781-1bd341041489",
   "metadata": {},
   "outputs": [
    {
     "name": "stderr",
     "output_type": "stream",
     "text": [
      "2023-07-31 17:51:54.504659: I tensorflow/core/platform/cpu_feature_guard.cc:182] This TensorFlow binary is optimized to use available CPU instructions in performance-critical operations.\n",
      "To enable the following instructions: SSE4.1 SSE4.2 AVX AVX2 FMA, in other operations, rebuild TensorFlow with the appropriate compiler flags.\n"
     ]
    }
   ],
   "source": [
    "from typing import Dict\n",
    "\n",
    "from prefect import Flow, task, case\n",
    "from prefect import Parameter\n",
    "\n",
    "from lume_services.results import Result\n",
    "from lume_services.tasks import (\n",
    "    configure_lume_services,\n",
    "    prepare_lume_model_variables,\n",
    "    check_local_execution,\n",
    "    SaveDBResult,\n",
    "    LoadDBResult,\n",
    "    LoadFile,\n",
    "    SaveFile,\n",
    ")\n",
    "from lume_services.files import TextFile\n",
    "from lume_model.variables import InputVariable, OutputVariable\n",
    "from prefect.storage import Module\n",
    "\n",
    "from lume_lcls_cu_inj_nn.model import LCLSCuInjNN\n",
    "from lume_lcls_cu_inj_nn import INPUT_VARIABLES, CU_INJ_MAPPING_TABLE"
   ]
  },
  {
   "cell_type": "code",
   "execution_count": 19,
   "id": "e3b690cb-7536-4ae5-9d2e-19057890118b",
   "metadata": {},
   "outputs": [],
   "source": [
    "# CONFIGURE LUME-SERVICES\n",
    "# see https://slaclab.github.io/lume-services/workflows/#configuring-flows-for-use-with-lume-services\n",
    "configure = configure_lume_services.run()\n",
    "\n",
    "# CHECK WHETHER THE FLOW IS RUNNING LOCALLY\n",
    "# If the flow runs using a local backend, the results service will not be available\n",
    "running_local = check_local_execution.run()\n",
    "#running_local.set_upstream(configure)"
   ]
  },
  {
   "cell_type": "code",
   "execution_count": 30,
   "id": "4fbc4556-c3cd-40b4-adb1-120d14e768d1",
   "metadata": {},
   "outputs": [],
   "source": [
    "def preprocessing_task(input_variables):\n",
    "    # scale all values w.r.t. impact factor\n",
    "    for var_name, var in input_variables.items():\n",
    "\n",
    "        # if name included in scaling factors\n",
    "        if (\n",
    "            CU_INJ_MAPPING_TABLE[\"impact_name\"]\n",
    "            .str.contains(var_name, regex=False)\n",
    "            .any()\n",
    "        ):\n",
    "\n",
    "            # scaled_val = (\n",
    "            #     var.value\n",
    "            #     * CU_INJ_MAPPING_TABLE.loc[\n",
    "            #         CU_INJ_MAPPING_TABLE[\"impact_name\"] == var_name, \"impact_factor\"\n",
    "            #     ].item()\n",
    "            # )\n",
    "\n",
    "            var.value = var.value\n",
    "\n",
    "    return input_variables\n",
    "def evaluate(formatted_input_vars):\n",
    "\n",
    "    model = LCLSCuInjNN()\n",
    "\n",
    "    return model.evaluate(formatted_input_vars)"
   ]
  },
  {
   "cell_type": "code",
   "execution_count": 35,
   "id": "0af9b5d7-249a-4b1d-b62b-80d9919740dc",
   "metadata": {},
   "outputs": [],
   "source": [
    "input = {\n",
    "                        \"distgen:r_dist:sigma_xy:value\": 0.4130, \n",
    "                        \"distgen:total_charge:value\": 250.0, \n",
    "                        \"distgen:t_dist:length:value\":7.499772441611215, \n",
    "                        \"SOL1:solenoid_field_scale\": 0.17, \n",
    "                        \"CQ01:b1_gradient\":-0.0074,\n",
    "                        \"SQ01:b1_gradient\": -0.0074,\n",
    "                        \"L0A_phase:dtheta0_deg\": -8.8997,\n",
    "                        \"L0A_scale:voltage\": 70000000.0,\n",
    "                        \"distgen:t_dist:length:value\": 7.499772441611215,\n",
    "                        \"end_mean_z\": 4.6147002\n",
    "    }"
   ]
  },
  {
   "cell_type": "code",
   "execution_count": 45,
   "id": "664ffd8c-f0f7-4848-9870-0faee92dbb33",
   "metadata": {},
   "outputs": [
    {
     "name": "stdout",
     "output_type": "stream",
     "text": [
      "[array([[ 4.13000000e-01,  7.49977244e+00,  2.50000000e+02,\n",
      "         1.70000000e-01, -7.40000000e-03, -7.40000000e-03,\n",
      "        -8.89970000e+00,  7.00000000e+07,  4.61470020e+00]])]\n"
     ]
    },
    {
     "name": "stderr",
     "output_type": "stream",
     "text": [
      "2023-07-31 18:12:35.944921: I tensorflow/compiler/xla/stream_executor/cuda/cuda_blas.cc:637] TensorFloat-32 will be used for the matrix multiplication. This will only be logged once.\n",
      "2023-07-31 18:12:35.945126: W tensorflow/core/framework/op_kernel.cc:1830] OP_REQUIRES failed at matmul_op_impl.h:621 : INTERNAL: cublas error\n",
      "2023-07-31 18:12:35.945147: I tensorflow/core/common_runtime/executor.cc:1197] [/job:localhost/replica:0/task:0/device:GPU:0] (DEBUG INFO) Executor start aborting (this does not indicate an error and you can ignore this message): INTERNAL: cublas error\n",
      "\t [[{{node model_5/dense_60/MatMul}}]]\n"
     ]
    },
    {
     "ename": "InternalError",
     "evalue": "Graph execution error:\n\nDetected at node 'model_5/dense_60/MatMul' defined at (most recent call last):\n    File \"/home/thakur12/.conda/envs/lume-lcls-cu-inj-nn-torch/lib/python3.9/runpy.py\", line 197, in _run_module_as_main\n      return _run_code(code, main_globals, None,\n    File \"/home/thakur12/.conda/envs/lume-lcls-cu-inj-nn-torch/lib/python3.9/runpy.py\", line 87, in _run_code\n      exec(code, run_globals)\n    File \"/home/thakur12/.conda/envs/lume-lcls-cu-inj-nn-torch/lib/python3.9/site-packages/ipykernel_launcher.py\", line 17, in <module>\n      app.launch_new_instance()\n    File \"/home/thakur12/.conda/envs/lume-lcls-cu-inj-nn-torch/lib/python3.9/site-packages/traitlets/config/application.py\", line 1043, in launch_instance\n      app.start()\n    File \"/home/thakur12/.conda/envs/lume-lcls-cu-inj-nn-torch/lib/python3.9/site-packages/ipykernel/kernelapp.py\", line 736, in start\n      self.io_loop.start()\n    File \"/home/thakur12/.conda/envs/lume-lcls-cu-inj-nn-torch/lib/python3.9/site-packages/tornado/platform/asyncio.py\", line 195, in start\n      self.asyncio_loop.run_forever()\n    File \"/home/thakur12/.conda/envs/lume-lcls-cu-inj-nn-torch/lib/python3.9/asyncio/base_events.py\", line 601, in run_forever\n      self._run_once()\n    File \"/home/thakur12/.conda/envs/lume-lcls-cu-inj-nn-torch/lib/python3.9/asyncio/base_events.py\", line 1905, in _run_once\n      handle._run()\n    File \"/home/thakur12/.conda/envs/lume-lcls-cu-inj-nn-torch/lib/python3.9/asyncio/events.py\", line 80, in _run\n      self._context.run(self._callback, *self._args)\n    File \"/home/thakur12/.conda/envs/lume-lcls-cu-inj-nn-torch/lib/python3.9/site-packages/ipykernel/kernelbase.py\", line 516, in dispatch_queue\n      await self.process_one()\n    File \"/home/thakur12/.conda/envs/lume-lcls-cu-inj-nn-torch/lib/python3.9/site-packages/ipykernel/kernelbase.py\", line 505, in process_one\n      await dispatch(*args)\n    File \"/home/thakur12/.conda/envs/lume-lcls-cu-inj-nn-torch/lib/python3.9/site-packages/ipykernel/kernelbase.py\", line 412, in dispatch_shell\n      await result\n    File \"/home/thakur12/.conda/envs/lume-lcls-cu-inj-nn-torch/lib/python3.9/site-packages/ipykernel/kernelbase.py\", line 740, in execute_request\n      reply_content = await reply_content\n    File \"/home/thakur12/.conda/envs/lume-lcls-cu-inj-nn-torch/lib/python3.9/site-packages/ipykernel/ipkernel.py\", line 422, in do_execute\n      res = shell.run_cell(\n    File \"/home/thakur12/.conda/envs/lume-lcls-cu-inj-nn-torch/lib/python3.9/site-packages/ipykernel/zmqshell.py\", line 546, in run_cell\n      return super().run_cell(*args, **kwargs)\n    File \"/home/thakur12/.conda/envs/lume-lcls-cu-inj-nn-torch/lib/python3.9/site-packages/IPython/core/interactiveshell.py\", line 3009, in run_cell\n      result = self._run_cell(\n    File \"/home/thakur12/.conda/envs/lume-lcls-cu-inj-nn-torch/lib/python3.9/site-packages/IPython/core/interactiveshell.py\", line 3064, in _run_cell\n      result = runner(coro)\n    File \"/home/thakur12/.conda/envs/lume-lcls-cu-inj-nn-torch/lib/python3.9/site-packages/IPython/core/async_helpers.py\", line 129, in _pseudo_sync_runner\n      coro.send(None)\n    File \"/home/thakur12/.conda/envs/lume-lcls-cu-inj-nn-torch/lib/python3.9/site-packages/IPython/core/interactiveshell.py\", line 3269, in run_cell_async\n      has_raised = await self.run_ast_nodes(code_ast.body, cell_name,\n    File \"/home/thakur12/.conda/envs/lume-lcls-cu-inj-nn-torch/lib/python3.9/site-packages/IPython/core/interactiveshell.py\", line 3448, in run_ast_nodes\n      if await self.run_code(code, result, async_=asy):\n    File \"/home/thakur12/.conda/envs/lume-lcls-cu-inj-nn-torch/lib/python3.9/site-packages/IPython/core/interactiveshell.py\", line 3508, in run_code\n      exec(code_obj, self.user_global_ns, self.user_ns)\n    File \"/tmp/ipykernel_1879931/2912507127.py\", line 19, in <module>\n      output_variables = evaluate(processed_input_vars)\n    File \"/tmp/ipykernel_1879931/1553829577.py\", line 26, in evaluate\n      return model.evaluate(formatted_input_vars)\n    File \"/home/thakur12/.conda/envs/lume-lcls-cu-inj-nn-torch/lib/python3.9/site-packages/lume_model/keras/__init__.py\", line 91, in evaluate\n      model_output = self._model.predict(formatted_input)\n    File \"/home/thakur12/.conda/envs/lume-lcls-cu-inj-nn-torch/lib/python3.9/site-packages/keras/utils/traceback_utils.py\", line 65, in error_handler\n      return fn(*args, **kwargs)\n    File \"/home/thakur12/.conda/envs/lume-lcls-cu-inj-nn-torch/lib/python3.9/site-packages/keras/engine/training.py\", line 2382, in predict\n      tmp_batch_outputs = self.predict_function(iterator)\n    File \"/home/thakur12/.conda/envs/lume-lcls-cu-inj-nn-torch/lib/python3.9/site-packages/keras/engine/training.py\", line 2169, in predict_function\n      return step_function(self, iterator)\n    File \"/home/thakur12/.conda/envs/lume-lcls-cu-inj-nn-torch/lib/python3.9/site-packages/keras/engine/training.py\", line 2155, in step_function\n      outputs = model.distribute_strategy.run(run_step, args=(data,))\n    File \"/home/thakur12/.conda/envs/lume-lcls-cu-inj-nn-torch/lib/python3.9/site-packages/keras/engine/training.py\", line 2143, in run_step\n      outputs = model.predict_step(data)\n    File \"/home/thakur12/.conda/envs/lume-lcls-cu-inj-nn-torch/lib/python3.9/site-packages/keras/engine/training.py\", line 2111, in predict_step\n      return self(x, training=False)\n    File \"/home/thakur12/.conda/envs/lume-lcls-cu-inj-nn-torch/lib/python3.9/site-packages/keras/utils/traceback_utils.py\", line 65, in error_handler\n      return fn(*args, **kwargs)\n    File \"/home/thakur12/.conda/envs/lume-lcls-cu-inj-nn-torch/lib/python3.9/site-packages/keras/engine/training.py\", line 558, in __call__\n      return super().__call__(*args, **kwargs)\n    File \"/home/thakur12/.conda/envs/lume-lcls-cu-inj-nn-torch/lib/python3.9/site-packages/keras/utils/traceback_utils.py\", line 65, in error_handler\n      return fn(*args, **kwargs)\n    File \"/home/thakur12/.conda/envs/lume-lcls-cu-inj-nn-torch/lib/python3.9/site-packages/keras/engine/base_layer.py\", line 1145, in __call__\n      outputs = call_fn(inputs, *args, **kwargs)\n    File \"/home/thakur12/.conda/envs/lume-lcls-cu-inj-nn-torch/lib/python3.9/site-packages/keras/utils/traceback_utils.py\", line 96, in error_handler\n      return fn(*args, **kwargs)\n    File \"/home/thakur12/.conda/envs/lume-lcls-cu-inj-nn-torch/lib/python3.9/site-packages/keras/engine/functional.py\", line 512, in call\n      return self._run_internal_graph(inputs, training=training, mask=mask)\n    File \"/home/thakur12/.conda/envs/lume-lcls-cu-inj-nn-torch/lib/python3.9/site-packages/keras/engine/functional.py\", line 669, in _run_internal_graph\n      outputs = node.layer(*args, **kwargs)\n    File \"/home/thakur12/.conda/envs/lume-lcls-cu-inj-nn-torch/lib/python3.9/site-packages/keras/utils/traceback_utils.py\", line 65, in error_handler\n      return fn(*args, **kwargs)\n    File \"/home/thakur12/.conda/envs/lume-lcls-cu-inj-nn-torch/lib/python3.9/site-packages/keras/engine/base_layer.py\", line 1145, in __call__\n      outputs = call_fn(inputs, *args, **kwargs)\n    File \"/home/thakur12/.conda/envs/lume-lcls-cu-inj-nn-torch/lib/python3.9/site-packages/keras/utils/traceback_utils.py\", line 96, in error_handler\n      return fn(*args, **kwargs)\n    File \"/home/thakur12/.conda/envs/lume-lcls-cu-inj-nn-torch/lib/python3.9/site-packages/keras/layers/core/dense.py\", line 241, in call\n      outputs = tf.matmul(a=inputs, b=self.kernel)\nNode: 'model_5/dense_60/MatMul'\ncublas error\n\t [[{{node model_5/dense_60/MatMul}}]] [Op:__inference_predict_function_2962]",
     "output_type": "error",
     "traceback": [
      "\u001b[0;31m---------------------------------------------------------------------------\u001b[0m",
      "\u001b[0;31mInternalError\u001b[0m                             Traceback (most recent call last)",
      "Cell \u001b[0;32mIn[45], line 19\u001b[0m\n\u001b[1;32m     15\u001b[0m     processed_input_vars[key]\u001b[38;5;241m.\u001b[39mvalue \u001b[38;5;241m=\u001b[39m \u001b[38;5;28minput\u001b[39m[key]\n\u001b[1;32m     17\u001b[0m \u001b[38;5;66;03m# # RUN EVALUATION\u001b[39;00m\n\u001b[1;32m     18\u001b[0m \u001b[38;5;66;03m#print(processed_input_vars)\u001b[39;00m\n\u001b[0;32m---> 19\u001b[0m output_variables \u001b[38;5;241m=\u001b[39m \u001b[43mevaluate\u001b[49m\u001b[43m(\u001b[49m\u001b[43mprocessed_input_vars\u001b[49m\u001b[43m)\u001b[49m\n\u001b[1;32m     21\u001b[0m \u001b[38;5;66;03m# # SAVE RESULTS TO RESULTS DATABASE, requires LUME-services results backend \u001b[39;00m\n\u001b[1;32m     22\u001b[0m \u001b[38;5;66;03m# with case(running_local, False):\u001b[39;00m\n\u001b[1;32m     23\u001b[0m \u001b[38;5;66;03m#     # CREATE LUME-services Result object\u001b[39;00m\n\u001b[0;32m   (...)\u001b[0m\n\u001b[1;32m     29\u001b[0m \u001b[38;5;66;03m#     saved_model_rep = save_db_result_task(formatted_result)\u001b[39;00m\n\u001b[1;32m     30\u001b[0m \u001b[38;5;66;03m#     saved_model_rep.set_upstream(configure)\u001b[39;00m\n",
      "Cell \u001b[0;32mIn[30], line 26\u001b[0m, in \u001b[0;36mevaluate\u001b[0;34m(formatted_input_vars)\u001b[0m\n\u001b[1;32m     22\u001b[0m \u001b[38;5;28;01mdef\u001b[39;00m \u001b[38;5;21mevaluate\u001b[39m(formatted_input_vars):\n\u001b[1;32m     24\u001b[0m     model \u001b[38;5;241m=\u001b[39m LCLSCuInjNN()\n\u001b[0;32m---> 26\u001b[0m     \u001b[38;5;28;01mreturn\u001b[39;00m \u001b[43mmodel\u001b[49m\u001b[38;5;241;43m.\u001b[39;49m\u001b[43mevaluate\u001b[49m\u001b[43m(\u001b[49m\u001b[43mformatted_input_vars\u001b[49m\u001b[43m)\u001b[49m\n",
      "File \u001b[0;32m~/.conda/envs/lume-lcls-cu-inj-nn-torch/lib/python3.9/site-packages/lume_model/keras/__init__.py:91\u001b[0m, in \u001b[0;36mKerasModel.evaluate\u001b[0;34m(self, input_variables)\u001b[0m\n\u001b[1;32m     88\u001b[0m \u001b[38;5;28mprint\u001b[39m(formatted_input)\n\u001b[1;32m     90\u001b[0m \u001b[38;5;66;03m# call prediction in threadsafe manner\u001b[39;00m\n\u001b[0;32m---> 91\u001b[0m model_output \u001b[38;5;241m=\u001b[39m \u001b[38;5;28;43mself\u001b[39;49m\u001b[38;5;241;43m.\u001b[39;49m\u001b[43m_model\u001b[49m\u001b[38;5;241;43m.\u001b[39;49m\u001b[43mpredict\u001b[49m\u001b[43m(\u001b[49m\u001b[43mformatted_input\u001b[49m\u001b[43m)\u001b[49m\n\u001b[1;32m     93\u001b[0m output \u001b[38;5;241m=\u001b[39m \u001b[38;5;28mself\u001b[39m\u001b[38;5;241m.\u001b[39mparse_output(model_output)\n\u001b[1;32m     95\u001b[0m \u001b[38;5;66;03m# prepare outputs will format return variables (dict-> variables)\u001b[39;00m\n",
      "File \u001b[0;32m~/.conda/envs/lume-lcls-cu-inj-nn-torch/lib/python3.9/site-packages/keras/utils/traceback_utils.py:70\u001b[0m, in \u001b[0;36mfilter_traceback.<locals>.error_handler\u001b[0;34m(*args, **kwargs)\u001b[0m\n\u001b[1;32m     67\u001b[0m     filtered_tb \u001b[38;5;241m=\u001b[39m _process_traceback_frames(e\u001b[38;5;241m.\u001b[39m__traceback__)\n\u001b[1;32m     68\u001b[0m     \u001b[38;5;66;03m# To get the full stack trace, call:\u001b[39;00m\n\u001b[1;32m     69\u001b[0m     \u001b[38;5;66;03m# `tf.debugging.disable_traceback_filtering()`\u001b[39;00m\n\u001b[0;32m---> 70\u001b[0m     \u001b[38;5;28;01mraise\u001b[39;00m e\u001b[38;5;241m.\u001b[39mwith_traceback(filtered_tb) \u001b[38;5;28;01mfrom\u001b[39;00m \u001b[38;5;28;01mNone\u001b[39;00m\n\u001b[1;32m     71\u001b[0m \u001b[38;5;28;01mfinally\u001b[39;00m:\n\u001b[1;32m     72\u001b[0m     \u001b[38;5;28;01mdel\u001b[39;00m filtered_tb\n",
      "File \u001b[0;32m~/.conda/envs/lume-lcls-cu-inj-nn-torch/lib/python3.9/site-packages/tensorflow/python/eager/execute.py:52\u001b[0m, in \u001b[0;36mquick_execute\u001b[0;34m(op_name, num_outputs, inputs, attrs, ctx, name)\u001b[0m\n\u001b[1;32m     50\u001b[0m \u001b[38;5;28;01mtry\u001b[39;00m:\n\u001b[1;32m     51\u001b[0m   ctx\u001b[38;5;241m.\u001b[39mensure_initialized()\n\u001b[0;32m---> 52\u001b[0m   tensors \u001b[38;5;241m=\u001b[39m pywrap_tfe\u001b[38;5;241m.\u001b[39mTFE_Py_Execute(ctx\u001b[38;5;241m.\u001b[39m_handle, device_name, op_name,\n\u001b[1;32m     53\u001b[0m                                       inputs, attrs, num_outputs)\n\u001b[1;32m     54\u001b[0m \u001b[38;5;28;01mexcept\u001b[39;00m core\u001b[38;5;241m.\u001b[39m_NotOkStatusException \u001b[38;5;28;01mas\u001b[39;00m e:\n\u001b[1;32m     55\u001b[0m   \u001b[38;5;28;01mif\u001b[39;00m name \u001b[38;5;129;01mis\u001b[39;00m \u001b[38;5;129;01mnot\u001b[39;00m \u001b[38;5;28;01mNone\u001b[39;00m:\n",
      "\u001b[0;31mInternalError\u001b[0m: Graph execution error:\n\nDetected at node 'model_5/dense_60/MatMul' defined at (most recent call last):\n    File \"/home/thakur12/.conda/envs/lume-lcls-cu-inj-nn-torch/lib/python3.9/runpy.py\", line 197, in _run_module_as_main\n      return _run_code(code, main_globals, None,\n    File \"/home/thakur12/.conda/envs/lume-lcls-cu-inj-nn-torch/lib/python3.9/runpy.py\", line 87, in _run_code\n      exec(code, run_globals)\n    File \"/home/thakur12/.conda/envs/lume-lcls-cu-inj-nn-torch/lib/python3.9/site-packages/ipykernel_launcher.py\", line 17, in <module>\n      app.launch_new_instance()\n    File \"/home/thakur12/.conda/envs/lume-lcls-cu-inj-nn-torch/lib/python3.9/site-packages/traitlets/config/application.py\", line 1043, in launch_instance\n      app.start()\n    File \"/home/thakur12/.conda/envs/lume-lcls-cu-inj-nn-torch/lib/python3.9/site-packages/ipykernel/kernelapp.py\", line 736, in start\n      self.io_loop.start()\n    File \"/home/thakur12/.conda/envs/lume-lcls-cu-inj-nn-torch/lib/python3.9/site-packages/tornado/platform/asyncio.py\", line 195, in start\n      self.asyncio_loop.run_forever()\n    File \"/home/thakur12/.conda/envs/lume-lcls-cu-inj-nn-torch/lib/python3.9/asyncio/base_events.py\", line 601, in run_forever\n      self._run_once()\n    File \"/home/thakur12/.conda/envs/lume-lcls-cu-inj-nn-torch/lib/python3.9/asyncio/base_events.py\", line 1905, in _run_once\n      handle._run()\n    File \"/home/thakur12/.conda/envs/lume-lcls-cu-inj-nn-torch/lib/python3.9/asyncio/events.py\", line 80, in _run\n      self._context.run(self._callback, *self._args)\n    File \"/home/thakur12/.conda/envs/lume-lcls-cu-inj-nn-torch/lib/python3.9/site-packages/ipykernel/kernelbase.py\", line 516, in dispatch_queue\n      await self.process_one()\n    File \"/home/thakur12/.conda/envs/lume-lcls-cu-inj-nn-torch/lib/python3.9/site-packages/ipykernel/kernelbase.py\", line 505, in process_one\n      await dispatch(*args)\n    File \"/home/thakur12/.conda/envs/lume-lcls-cu-inj-nn-torch/lib/python3.9/site-packages/ipykernel/kernelbase.py\", line 412, in dispatch_shell\n      await result\n    File \"/home/thakur12/.conda/envs/lume-lcls-cu-inj-nn-torch/lib/python3.9/site-packages/ipykernel/kernelbase.py\", line 740, in execute_request\n      reply_content = await reply_content\n    File \"/home/thakur12/.conda/envs/lume-lcls-cu-inj-nn-torch/lib/python3.9/site-packages/ipykernel/ipkernel.py\", line 422, in do_execute\n      res = shell.run_cell(\n    File \"/home/thakur12/.conda/envs/lume-lcls-cu-inj-nn-torch/lib/python3.9/site-packages/ipykernel/zmqshell.py\", line 546, in run_cell\n      return super().run_cell(*args, **kwargs)\n    File \"/home/thakur12/.conda/envs/lume-lcls-cu-inj-nn-torch/lib/python3.9/site-packages/IPython/core/interactiveshell.py\", line 3009, in run_cell\n      result = self._run_cell(\n    File \"/home/thakur12/.conda/envs/lume-lcls-cu-inj-nn-torch/lib/python3.9/site-packages/IPython/core/interactiveshell.py\", line 3064, in _run_cell\n      result = runner(coro)\n    File \"/home/thakur12/.conda/envs/lume-lcls-cu-inj-nn-torch/lib/python3.9/site-packages/IPython/core/async_helpers.py\", line 129, in _pseudo_sync_runner\n      coro.send(None)\n    File \"/home/thakur12/.conda/envs/lume-lcls-cu-inj-nn-torch/lib/python3.9/site-packages/IPython/core/interactiveshell.py\", line 3269, in run_cell_async\n      has_raised = await self.run_ast_nodes(code_ast.body, cell_name,\n    File \"/home/thakur12/.conda/envs/lume-lcls-cu-inj-nn-torch/lib/python3.9/site-packages/IPython/core/interactiveshell.py\", line 3448, in run_ast_nodes\n      if await self.run_code(code, result, async_=asy):\n    File \"/home/thakur12/.conda/envs/lume-lcls-cu-inj-nn-torch/lib/python3.9/site-packages/IPython/core/interactiveshell.py\", line 3508, in run_code\n      exec(code_obj, self.user_global_ns, self.user_ns)\n    File \"/tmp/ipykernel_1879931/2912507127.py\", line 19, in <module>\n      output_variables = evaluate(processed_input_vars)\n    File \"/tmp/ipykernel_1879931/1553829577.py\", line 26, in evaluate\n      return model.evaluate(formatted_input_vars)\n    File \"/home/thakur12/.conda/envs/lume-lcls-cu-inj-nn-torch/lib/python3.9/site-packages/lume_model/keras/__init__.py\", line 91, in evaluate\n      model_output = self._model.predict(formatted_input)\n    File \"/home/thakur12/.conda/envs/lume-lcls-cu-inj-nn-torch/lib/python3.9/site-packages/keras/utils/traceback_utils.py\", line 65, in error_handler\n      return fn(*args, **kwargs)\n    File \"/home/thakur12/.conda/envs/lume-lcls-cu-inj-nn-torch/lib/python3.9/site-packages/keras/engine/training.py\", line 2382, in predict\n      tmp_batch_outputs = self.predict_function(iterator)\n    File \"/home/thakur12/.conda/envs/lume-lcls-cu-inj-nn-torch/lib/python3.9/site-packages/keras/engine/training.py\", line 2169, in predict_function\n      return step_function(self, iterator)\n    File \"/home/thakur12/.conda/envs/lume-lcls-cu-inj-nn-torch/lib/python3.9/site-packages/keras/engine/training.py\", line 2155, in step_function\n      outputs = model.distribute_strategy.run(run_step, args=(data,))\n    File \"/home/thakur12/.conda/envs/lume-lcls-cu-inj-nn-torch/lib/python3.9/site-packages/keras/engine/training.py\", line 2143, in run_step\n      outputs = model.predict_step(data)\n    File \"/home/thakur12/.conda/envs/lume-lcls-cu-inj-nn-torch/lib/python3.9/site-packages/keras/engine/training.py\", line 2111, in predict_step\n      return self(x, training=False)\n    File \"/home/thakur12/.conda/envs/lume-lcls-cu-inj-nn-torch/lib/python3.9/site-packages/keras/utils/traceback_utils.py\", line 65, in error_handler\n      return fn(*args, **kwargs)\n    File \"/home/thakur12/.conda/envs/lume-lcls-cu-inj-nn-torch/lib/python3.9/site-packages/keras/engine/training.py\", line 558, in __call__\n      return super().__call__(*args, **kwargs)\n    File \"/home/thakur12/.conda/envs/lume-lcls-cu-inj-nn-torch/lib/python3.9/site-packages/keras/utils/traceback_utils.py\", line 65, in error_handler\n      return fn(*args, **kwargs)\n    File \"/home/thakur12/.conda/envs/lume-lcls-cu-inj-nn-torch/lib/python3.9/site-packages/keras/engine/base_layer.py\", line 1145, in __call__\n      outputs = call_fn(inputs, *args, **kwargs)\n    File \"/home/thakur12/.conda/envs/lume-lcls-cu-inj-nn-torch/lib/python3.9/site-packages/keras/utils/traceback_utils.py\", line 96, in error_handler\n      return fn(*args, **kwargs)\n    File \"/home/thakur12/.conda/envs/lume-lcls-cu-inj-nn-torch/lib/python3.9/site-packages/keras/engine/functional.py\", line 512, in call\n      return self._run_internal_graph(inputs, training=training, mask=mask)\n    File \"/home/thakur12/.conda/envs/lume-lcls-cu-inj-nn-torch/lib/python3.9/site-packages/keras/engine/functional.py\", line 669, in _run_internal_graph\n      outputs = node.layer(*args, **kwargs)\n    File \"/home/thakur12/.conda/envs/lume-lcls-cu-inj-nn-torch/lib/python3.9/site-packages/keras/utils/traceback_utils.py\", line 65, in error_handler\n      return fn(*args, **kwargs)\n    File \"/home/thakur12/.conda/envs/lume-lcls-cu-inj-nn-torch/lib/python3.9/site-packages/keras/engine/base_layer.py\", line 1145, in __call__\n      outputs = call_fn(inputs, *args, **kwargs)\n    File \"/home/thakur12/.conda/envs/lume-lcls-cu-inj-nn-torch/lib/python3.9/site-packages/keras/utils/traceback_utils.py\", line 96, in error_handler\n      return fn(*args, **kwargs)\n    File \"/home/thakur12/.conda/envs/lume-lcls-cu-inj-nn-torch/lib/python3.9/site-packages/keras/layers/core/dense.py\", line 241, in call\n      outputs = tf.matmul(a=inputs, b=self.kernel)\nNode: 'model_5/dense_60/MatMul'\ncublas error\n\t [[{{node model_5/dense_60/MatMul}}]] [Op:__inference_predict_function_2962]"
     ]
    }
   ],
   "source": [
    "    input_variable_parameter_dict = {\n",
    "        var_name: Parameter(var_name, default=var.default)\n",
    "        for var_name, var in INPUT_VARIABLES.items()\n",
    "    }\n",
    "\n",
    "    # ORGANIZE INPUT VARIABLE VALUES LUME-MODEL VARIABLES\n",
    "    formatted_input_vars = prepare_lume_model_variables.run(\n",
    "        input_variable_parameter_dict, INPUT_VARIABLES\n",
    "    )\n",
    "\n",
    "    # Perform scaling of variables\n",
    "    processed_input_vars = preprocessing_task(formatted_input_vars)\n",
    "\n",
    "    for key in input.keys():\n",
    "        processed_input_vars[key].value = input[key]\n",
    "\n",
    "    # # RUN EVALUATION\n",
    "    #print(processed_input_vars)\n",
    "    output_variables = evaluate(processed_input_vars)\n",
    "\n",
    "    # # SAVE RESULTS TO RESULTS DATABASE, requires LUME-services results backend \n",
    "    # with case(running_local, False):\n",
    "    #     # CREATE LUME-services Result object\n",
    "    #     formatted_result = format_result(\n",
    "    #         input_variables=processed_input_vars, output_variables=output_variables\n",
    "    #     )\n",
    "\n",
    "    #     # RUN DATABASE_SAVE_TASK\n",
    "    #     saved_model_rep = save_db_result_task(formatted_result)\n",
    "    #     saved_model_rep.set_upstream(configure)\n",
    "\n"
   ]
  },
  {
   "cell_type": "code",
   "execution_count": 28,
   "id": "ee6c2e3c-af51-4ad0-9c5b-87ab62d0f979",
   "metadata": {},
   "outputs": [
    {
     "data": {
      "text/plain": [
       "{'distgen:r_dist:sigma_xy:value': ScalarInputVariable(variable_type='scalar', units='mm', parent_variable=None, value_range=[0.2000128411163704, 0.499960029319067], name='distgen:r_dist:sigma_xy:value', value=<Parameter: distgen:r_dist:sigma_xy:value>, precision=None, default=0.413, is_constant=False),\n",
       " 'distgen:t_dist:length:value': ScalarInputVariable(variable_type='scalar', units='ps', parent_variable=None, value_range=[3.0000935388576626, 11.999451344364768], name='distgen:t_dist:length:value', value=<Parameter: distgen:t_dist:length:value>, precision=None, default=7.499772441611215, is_constant=False),\n",
       " 'distgen:total_charge:value': ScalarInputVariable(variable_type='scalar', units='pC', parent_variable=None, value_range=[250.0, 250.0], name='distgen:total_charge:value', value=<Parameter: distgen:total_charge:value>, precision=None, default=250.0, is_constant=True),\n",
       " 'SOL1:solenoid_field_scale': ScalarInputVariable(variable_type='scalar', units='T', parent_variable=None, value_range=[0.15000051301097236, 0.29998391898360177], name='SOL1:solenoid_field_scale', value=<Parameter: SOL1:solenoid_field_scale>, precision=None, default=0.246, is_constant=False),\n",
       " 'CQ01:b1_gradient': ScalarInputVariable(variable_type='scalar', units='T/m', parent_variable=None, value_range=[-0.009999961444754046, 0.009997330500373847], name='CQ01:b1_gradient', value=<Parameter: CQ01:b1_gradient>, precision=None, default=-0.0074, is_constant=False),\n",
       " 'SQ01:b1_gradient': ScalarInputVariable(variable_type='scalar', units='T/m', parent_variable=None, value_range=[-0.009999961444754046, 0.009997330500373847], name='SQ01:b1_gradient', value=<Parameter: SQ01:b1_gradient>, precision=None, default=-0.0074, is_constant=False),\n",
       " 'L0A_phase:dtheta0_deg': ScalarInputVariable(variable_type='scalar', units='deg', parent_variable=None, value_range=[-24.999227856965984, 9.99975747834471], name='L0A_phase:dtheta0_deg', value=<Parameter: L0A_phase:dtheta0_deg>, precision=None, default=-8.8997, is_constant=False),\n",
       " 'L0A_scale:voltage': ScalarInputVariable(variable_type='scalar', units='V', parent_variable=None, value_range=[70000000.0, 70000000.0], name='L0A_scale:voltage', value=<Parameter: L0A_scale:voltage>, precision=None, default=70000000.0, is_constant=True),\n",
       " 'end_mean_z': ScalarInputVariable(variable_type='scalar', units='m', parent_variable=None, value_range=[4.6143255, 4.6150749], name='end_mean_z', value=<Parameter: end_mean_z>, precision=None, default=4.6147002, is_constant=False)}"
      ]
     },
     "execution_count": 28,
     "metadata": {},
     "output_type": "execute_result"
    }
   ],
   "source": [
    "output_variables"
   ]
  },
  {
   "cell_type": "code",
   "execution_count": null,
   "id": "a4faa2a7-30fc-44b8-85ee-f88ce42535ec",
   "metadata": {},
   "outputs": [],
   "source": []
  }
 ],
 "metadata": {
  "kernelspec": {
   "display_name": "Python [conda env:.conda-lume-lcls-cu-inj-nn-torch] *",
   "language": "python",
   "name": "conda-env-.conda-lume-lcls-cu-inj-nn-torch-py"
  },
  "language_info": {
   "codemirror_mode": {
    "name": "ipython",
    "version": 3
   },
   "file_extension": ".py",
   "mimetype": "text/x-python",
   "name": "python",
   "nbconvert_exporter": "python",
   "pygments_lexer": "ipython3",
   "version": "3.9.16"
  }
 },
 "nbformat": 4,
 "nbformat_minor": 5
}
